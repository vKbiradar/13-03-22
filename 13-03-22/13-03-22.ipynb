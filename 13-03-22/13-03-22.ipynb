{
 "cells": [
  {
   "cell_type": "markdown",
   "id": "49001e73",
   "metadata": {},
   "source": [
    "# Python Basics"
   ]
  },
  {
   "cell_type": "raw",
   "id": "be6ccd56",
   "metadata": {},
   "source": [
    "Agenda\n",
    "\n",
    "1.Variables\n",
    "       3 rules to define variable names\n",
    "2.Literals\n",
    "3.Static and dynamic way of declaring variables\n",
    "4.Operators\n",
    "    1.Arithmetic operator\n",
    "    2.Assignment operator\n",
    "    3.Comparision operator\n",
    "    4.Logical operator\n",
    "    5.Bitwise operator\n",
    "5.Indexing and Slicing    \n",
    "6.Basic Datatypes\n",
    "7.Collective Datatypes\n",
    "     immutable datatype\n",
    "           string\n",
    "           tuple\n",
    "     mutable datatype\n",
    "           list\n",
    "           dictionary\n",
    "           set\n",
    " 8.conditional statement   \n",
    "      simple if\n",
    "      if-else\n",
    "      multiple if\n",
    "      if-elif\n",
    "      nested if\n",
    "9.Looping statements\n",
    "        for loop\n",
    "        while loop\n",
    "        break\n",
    "        continue\n",
    "10.Functions\n",
    "       built-in function\n",
    "       user defined functions\n",
    "       Lambda function "
   ]
  },
  {
   "cell_type": "markdown",
   "id": "182b22c2",
   "metadata": {},
   "source": [
    "# 1.Variables\n",
    "       3 rules to define variable names\n"
   ]
  },
  {
   "cell_type": "code",
   "execution_count": 1,
   "id": "3d04222b",
   "metadata": {},
   "outputs": [],
   "source": [
    "#variable-->variable acts as memory location/container to store the data\n",
    "#variable name=value"
   ]
  },
  {
   "cell_type": "code",
   "execution_count": 2,
   "id": "488c4a06",
   "metadata": {},
   "outputs": [],
   "source": [
    "a=10"
   ]
  },
  {
   "cell_type": "code",
   "execution_count": 3,
   "id": "2c6fea04",
   "metadata": {},
   "outputs": [
    {
     "name": "stdout",
     "output_type": "stream",
     "text": [
      "10\n"
     ]
    }
   ],
   "source": [
    "print(a)"
   ]
  },
  {
   "cell_type": "code",
   "execution_count": 4,
   "id": "6b0ac796",
   "metadata": {},
   "outputs": [],
   "source": [
    "a=20"
   ]
  },
  {
   "cell_type": "code",
   "execution_count": 5,
   "id": "8b35b35f",
   "metadata": {},
   "outputs": [
    {
     "name": "stdout",
     "output_type": "stream",
     "text": [
      "20\n"
     ]
    }
   ],
   "source": [
    "print(a)"
   ]
  },
  {
   "cell_type": "code",
   "execution_count": 6,
   "id": "2c047d19",
   "metadata": {},
   "outputs": [],
   "source": [
    "#3 rules to define a variable name\n",
    "1.we  cannot assign keyword as a variable name"
   ]
  },
  {
   "cell_type": "code",
   "execution_count": 7,
   "id": "f981481a",
   "metadata": {},
   "outputs": [],
   "source": [
    "import keyword"
   ]
  },
  {
   "cell_type": "code",
   "execution_count": 8,
   "id": "4172a5eb",
   "metadata": {},
   "outputs": [
    {
     "name": "stdout",
     "output_type": "stream",
     "text": [
      "['False', 'None', 'True', '__peg_parser__', 'and', 'as', 'assert', 'async', 'await', 'break', 'class', 'continue', 'def', 'del', 'elif', 'else', 'except', 'finally', 'for', 'from', 'global', 'if', 'import', 'in', 'is', 'lambda', 'nonlocal', 'not', 'or', 'pass', 'raise', 'return', 'try', 'while', 'with', 'yield']\n"
     ]
    }
   ],
   "source": [
    "print(keyword.kwlist)"
   ]
  },
  {
   "cell_type": "code",
   "execution_count": null,
   "id": "f09e8f5b",
   "metadata": {},
   "outputs": [],
   "source": [
    "#2. you can start your variable name with either with letter or '_' but not with number"
   ]
  },
  {
   "cell_type": "code",
   "execution_count": 10,
   "id": "08e4a434",
   "metadata": {},
   "outputs": [],
   "source": [
    "var1=1\n",
    "_var=2"
   ]
  },
  {
   "cell_type": "code",
   "execution_count": 11,
   "id": "a8f0ffd7",
   "metadata": {},
   "outputs": [
    {
     "name": "stdout",
     "output_type": "stream",
     "text": [
      "1\n",
      "2\n"
     ]
    }
   ],
   "source": [
    "print(var1)\n",
    "print(_var)"
   ]
  },
  {
   "cell_type": "code",
   "execution_count": null,
   "id": "978d9699",
   "metadata": {},
   "outputs": [],
   "source": [
    "#3.variable name should not have any special characters except '_'"
   ]
  },
  {
   "cell_type": "markdown",
   "id": "58f78ffc",
   "metadata": {},
   "source": [
    "# 2.Literals"
   ]
  },
  {
   "cell_type": "code",
   "execution_count": 12,
   "id": "6f8c88e9",
   "metadata": {},
   "outputs": [],
   "source": [
    "#literals->the value which will be stored by a variable is known as literal "
   ]
  },
  {
   "cell_type": "code",
   "execution_count": 13,
   "id": "cd22e398",
   "metadata": {},
   "outputs": [],
   "source": [
    "a=10"
   ]
  },
  {
   "cell_type": "code",
   "execution_count": 14,
   "id": "bc172f8a",
   "metadata": {},
   "outputs": [
    {
     "ename": "SyntaxError",
     "evalue": "invalid syntax (Temp/ipykernel_1204/3697551913.py, line 2)",
     "output_type": "error",
     "traceback": [
      "\u001b[1;36m  File \u001b[1;32m\"C:\\Users\\army\\AppData\\Local\\Temp/ipykernel_1204/3697551913.py\"\u001b[1;36m, line \u001b[1;32m2\u001b[0m\n\u001b[1;33m    1.string--> \"\"/''\u001b[0m\n\u001b[1;37m      ^\u001b[0m\n\u001b[1;31mSyntaxError\u001b[0m\u001b[1;31m:\u001b[0m invalid syntax\n"
     ]
    }
   ],
   "source": [
    "#literals_types\n",
    "1.string--> \"\"/''\n",
    "2.intger\n",
    "3.float\n",
    "4.boolean"
   ]
  },
  {
   "cell_type": "code",
   "execution_count": 15,
   "id": "45076010",
   "metadata": {},
   "outputs": [
    {
     "data": {
      "text/plain": [
       "str"
      ]
     },
     "execution_count": 15,
     "metadata": {},
     "output_type": "execute_result"
    }
   ],
   "source": [
    "a=\"Welcome to the session\"\n",
    "type(a)"
   ]
  },
  {
   "cell_type": "code",
   "execution_count": 16,
   "id": "f16626c8",
   "metadata": {},
   "outputs": [
    {
     "data": {
      "text/plain": [
       "int"
      ]
     },
     "execution_count": 16,
     "metadata": {},
     "output_type": "execute_result"
    }
   ],
   "source": [
    "b=110\n",
    "type(b)"
   ]
  },
  {
   "cell_type": "code",
   "execution_count": 17,
   "id": "12035913",
   "metadata": {},
   "outputs": [
    {
     "data": {
      "text/plain": [
       "float"
      ]
     },
     "execution_count": 17,
     "metadata": {},
     "output_type": "execute_result"
    }
   ],
   "source": [
    "c=1.23\n",
    "type(c)"
   ]
  },
  {
   "cell_type": "code",
   "execution_count": 19,
   "id": "12f70d4c",
   "metadata": {},
   "outputs": [
    {
     "data": {
      "text/plain": [
       "True"
      ]
     },
     "execution_count": 19,
     "metadata": {},
     "output_type": "execute_result"
    }
   ],
   "source": [
    "d=10\n",
    "d>=10"
   ]
  },
  {
   "cell_type": "code",
   "execution_count": 21,
   "id": "511f1a16",
   "metadata": {},
   "outputs": [
    {
     "data": {
      "text/plain": [
       "bool"
      ]
     },
     "execution_count": 21,
     "metadata": {},
     "output_type": "execute_result"
    }
   ],
   "source": [
    "e=False\n",
    "type(e)"
   ]
  },
  {
   "cell_type": "markdown",
   "id": "0bd64724",
   "metadata": {},
   "source": [
    "# 3.Static and Dynamic way of declaring variables"
   ]
  },
  {
   "cell_type": "code",
   "execution_count": 22,
   "id": "a4c9430f",
   "metadata": {},
   "outputs": [],
   "source": [
    "#Static declaration -->declaring the values before the the exceution(fixed data)\n",
    "#dynamic declaration --> declaring the values in the time of excution\n",
    "\n"
   ]
  },
  {
   "cell_type": "code",
   "execution_count": 23,
   "id": "b3baef3a",
   "metadata": {},
   "outputs": [
    {
     "name": "stdout",
     "output_type": "stream",
     "text": [
      "sum of a+b+c is 113360000\n"
     ]
    }
   ],
   "source": [
    "#static \n",
    "a=100\n",
    "b=200\n",
    "c=5668\n",
    "print(\"sum of a+b+c is\",a*b*c)"
   ]
  },
  {
   "cell_type": "raw",
   "id": "66075e71",
   "metadata": {},
   "source": [
    "#dynamic \n",
    "#syntax\n",
    "string-->str(input())/input()\n",
    "intger-->int(input())\n",
    "float-->float(input())\n",
    "bool-->bool(input())\n"
   ]
  },
  {
   "cell_type": "code",
   "execution_count": 25,
   "id": "62a34ec3",
   "metadata": {},
   "outputs": [
    {
     "name": "stdout",
     "output_type": "stream",
     "text": [
      "Enter the var1hello\n",
      "Enter the var2world\n",
      "helloworld\n"
     ]
    }
   ],
   "source": [
    "var1=str(input(\"Enter the var1\"))\n",
    "var2=str(input(\"Enter the var2\"))\n",
    "print(var1 + var2)"
   ]
  },
  {
   "cell_type": "code",
   "execution_count": 26,
   "id": "35108d27",
   "metadata": {},
   "outputs": [
    {
     "name": "stdout",
     "output_type": "stream",
     "text": [
      "10\n",
      "20\n",
      "30\n"
     ]
    }
   ],
   "source": [
    "x1=int(input())\n",
    "x2=int(input())\n",
    "print(x1+x2)"
   ]
  },
  {
   "cell_type": "code",
   "execution_count": 27,
   "id": "b9ba340a",
   "metadata": {},
   "outputs": [
    {
     "name": "stdout",
     "output_type": "stream",
     "text": [
      "100\n"
     ]
    }
   ],
   "source": [
    "s1=input()"
   ]
  },
  {
   "cell_type": "code",
   "execution_count": 28,
   "id": "df1bc631",
   "metadata": {},
   "outputs": [
    {
     "data": {
      "text/plain": [
       "str"
      ]
     },
     "execution_count": 28,
     "metadata": {},
     "output_type": "execute_result"
    }
   ],
   "source": [
    "type(s1)"
   ]
  },
  {
   "cell_type": "code",
   "execution_count": 29,
   "id": "ca5af304",
   "metadata": {},
   "outputs": [
    {
     "name": "stdout",
     "output_type": "stream",
     "text": [
      "11.2\n",
      "22.3\n",
      "0.5022421524663677\n"
     ]
    }
   ],
   "source": [
    "w1=float(input())\n",
    "w2=float(input())\n",
    "print(w1/w2)"
   ]
  },
  {
   "cell_type": "code",
   "execution_count": 30,
   "id": "02ed06c6",
   "metadata": {},
   "outputs": [
    {
     "name": "stdout",
     "output_type": "stream",
     "text": [
      "hello\n"
     ]
    }
   ],
   "source": [
    "d1=bool(input())"
   ]
  },
  {
   "cell_type": "code",
   "execution_count": 31,
   "id": "7055e0b0",
   "metadata": {},
   "outputs": [
    {
     "data": {
      "text/plain": [
       "True"
      ]
     },
     "execution_count": 31,
     "metadata": {},
     "output_type": "execute_result"
    }
   ],
   "source": [
    "d1"
   ]
  },
  {
   "cell_type": "code",
   "execution_count": null,
   "id": "9c16f098",
   "metadata": {},
   "outputs": [],
   "source": []
  }
 ],
 "metadata": {
  "kernelspec": {
   "display_name": "Python 3 (ipykernel)",
   "language": "python",
   "name": "python3"
  },
  "language_info": {
   "codemirror_mode": {
    "name": "ipython",
    "version": 3
   },
   "file_extension": ".py",
   "mimetype": "text/x-python",
   "name": "python",
   "nbconvert_exporter": "python",
   "pygments_lexer": "ipython3",
   "version": "3.9.7"
  }
 },
 "nbformat": 4,
 "nbformat_minor": 5
}
