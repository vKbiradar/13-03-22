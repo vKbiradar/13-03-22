{
 "cells": [
  {
   "cell_type": "markdown",
   "id": "46cb113b",
   "metadata": {},
   "source": [
    "# Python Basics"
   ]
  },
  {
   "cell_type": "code",
   "execution_count": 14,
   "id": "dca2f760",
   "metadata": {
    "scrolled": true
   },
   "outputs": [
    {
     "name": "stdout",
     "output_type": "stream",
     "text": [
      "830\n"
     ]
    }
   ],
   "source": [
    "a=10\n",
    "A=800\n",
    "b=20\n",
    "c=a+b+A\n",
    "print(c)\n",
    "#to execute\n",
    "#shift+enter\n",
    "#ctrl +enter"
   ]
  },
  {
   "cell_type": "raw",
   "id": "556102d4",
   "metadata": {},
   "source": [
    "Hello all welcome to the session"
   ]
  },
  {
   "cell_type": "raw",
   "id": "71b91640",
   "metadata": {},
   "source": [
    "Agenda \n",
    "\n",
    "1. Variables\n",
    "    3 rules to define variable names\n",
    "   \n",
    "2.Literals\n",
    "\n",
    "3. Static and dynamic way of declaring variables\n",
    "\n",
    "4.Operators\n",
    "    1.Arithmetic operaotor\n",
    "    2.Assignment operator\n",
    "    3.Comparision operator\n",
    "    4.Logical operator\n",
    "    5.Bitwise operator\n",
    "    \n",
    "5.Indexing and Slicing\n",
    "    \n",
    "6.Basic Datatypes\n",
    "\n",
    "7.Collective Datatypes\n",
    "    immutable datatype\n",
    "        string\n",
    "        tuple\n",
    "    mutable datatype\n",
    "        list\n",
    "        dictionary \n",
    "        set\n",
    "        \n",
    "8.Conditional Statements\n",
    "    simple if\n",
    "    if-else\n",
    "    multiple if\n",
    "    if-elif\n",
    "    nested if\n",
    "    \n",
    "9.Looping statements\n",
    "    for loop\n",
    "    while loop\n",
    "    break\n",
    "    continue\n",
    "   \n",
    "10.Functions\n",
    "    built-in function\n",
    "    user defined functions\n",
    "    Lambda function\n",
    "    \n"
   ]
  },
  {
   "cell_type": "markdown",
   "id": "21a2aca6",
   "metadata": {},
   "source": [
    "# 1. Variables\n",
    "    3 rules to define variable names"
   ]
  },
  {
   "cell_type": "code",
   "execution_count": null,
   "id": "f6f46cfc",
   "metadata": {},
   "outputs": [],
   "source": [
    "#variable-->variable acts as memory location/container to store the data\n",
    "#variable name=value"
   ]
  },
  {
   "cell_type": "code",
   "execution_count": 15,
   "id": "fc4440b0",
   "metadata": {},
   "outputs": [],
   "source": [
    "a=10"
   ]
  },
  {
   "cell_type": "code",
   "execution_count": 16,
   "id": "9b0aa376",
   "metadata": {},
   "outputs": [
    {
     "name": "stdout",
     "output_type": "stream",
     "text": [
      "10\n"
     ]
    }
   ],
   "source": [
    "print(a)"
   ]
  },
  {
   "cell_type": "code",
   "execution_count": 17,
   "id": "6005e57c",
   "metadata": {},
   "outputs": [
    {
     "data": {
      "text/plain": [
       "10"
      ]
     },
     "execution_count": 17,
     "metadata": {},
     "output_type": "execute_result"
    }
   ],
   "source": [
    "a"
   ]
  },
  {
   "cell_type": "code",
   "execution_count": 19,
   "id": "71190de0",
   "metadata": {},
   "outputs": [],
   "source": [
    "a=20"
   ]
  },
  {
   "cell_type": "code",
   "execution_count": 20,
   "id": "e0758a80",
   "metadata": {},
   "outputs": [
    {
     "data": {
      "text/plain": [
       "20"
      ]
     },
     "execution_count": 20,
     "metadata": {},
     "output_type": "execute_result"
    }
   ],
   "source": [
    "a"
   ]
  },
  {
   "cell_type": "raw",
   "id": "a0b8af2e",
   "metadata": {},
   "source": [
    "#3 rules to define a variable name\n",
    "1.we cannot assign keyword as a variable name"
   ]
  },
  {
   "cell_type": "code",
   "execution_count": 21,
   "id": "d74d07c4",
   "metadata": {},
   "outputs": [],
   "source": [
    "import keyword"
   ]
  },
  {
   "cell_type": "code",
   "execution_count": 22,
   "id": "92950d07",
   "metadata": {},
   "outputs": [
    {
     "name": "stdout",
     "output_type": "stream",
     "text": [
      "['False', 'None', 'True', '__peg_parser__', 'and', 'as', 'assert', 'async', 'await', 'break', 'class', 'continue', 'def', 'del', 'elif', 'else', 'except', 'finally', 'for', 'from', 'global', 'if', 'import', 'in', 'is', 'lambda', 'nonlocal', 'not', 'or', 'pass', 'raise', 'return', 'try', 'while', 'with', 'yield']\n"
     ]
    }
   ],
   "source": [
    "print(keyword.kwlist)"
   ]
  },
  {
   "cell_type": "code",
   "execution_count": null,
   "id": "e5436a7d",
   "metadata": {},
   "outputs": [],
   "source": [
    "False\n",
    "None\n",
    "True\n",
    "and"
   ]
  },
  {
   "cell_type": "code",
   "execution_count": 23,
   "id": "907090e8",
   "metadata": {},
   "outputs": [
    {
     "ename": "SyntaxError",
     "evalue": "invalid syntax (Temp/ipykernel_18568/854254252.py, line 1)",
     "output_type": "error",
     "traceback": [
      "\u001b[1;36m  File \u001b[1;32m\"C:\\Users\\Admin\\AppData\\Local\\Temp/ipykernel_18568/854254252.py\"\u001b[1;36m, line \u001b[1;32m1\u001b[0m\n\u001b[1;33m    and=200\u001b[0m\n\u001b[1;37m    ^\u001b[0m\n\u001b[1;31mSyntaxError\u001b[0m\u001b[1;31m:\u001b[0m invalid syntax\n"
     ]
    }
   ],
   "source": [
    "and=200"
   ]
  },
  {
   "cell_type": "raw",
   "id": "03aa3de4",
   "metadata": {},
   "source": [
    "#2 .you can start your variable name with either with a letter or '_' but not with a number"
   ]
  },
  {
   "cell_type": "code",
   "execution_count": 24,
   "id": "498eb24d",
   "metadata": {},
   "outputs": [],
   "source": [
    "var1=2\n",
    "_var12=3"
   ]
  },
  {
   "cell_type": "code",
   "execution_count": 25,
   "id": "00c565d9",
   "metadata": {},
   "outputs": [
    {
     "ename": "SyntaxError",
     "evalue": "invalid syntax (Temp/ipykernel_18568/2974070357.py, line 1)",
     "output_type": "error",
     "traceback": [
      "\u001b[1;36m  File \u001b[1;32m\"C:\\Users\\Admin\\AppData\\Local\\Temp/ipykernel_18568/2974070357.py\"\u001b[1;36m, line \u001b[1;32m1\u001b[0m\n\u001b[1;33m    3var3=78\u001b[0m\n\u001b[1;37m     ^\u001b[0m\n\u001b[1;31mSyntaxError\u001b[0m\u001b[1;31m:\u001b[0m invalid syntax\n"
     ]
    }
   ],
   "source": [
    "3var3=78"
   ]
  },
  {
   "cell_type": "raw",
   "id": "467906e2",
   "metadata": {},
   "source": [
    "#3.variable name should not have any special characters except '_'."
   ]
  },
  {
   "cell_type": "code",
   "execution_count": 26,
   "id": "8b2bf468",
   "metadata": {},
   "outputs": [],
   "source": [
    "var_name=123"
   ]
  },
  {
   "cell_type": "code",
   "execution_count": 27,
   "id": "638190ed",
   "metadata": {},
   "outputs": [
    {
     "ename": "SyntaxError",
     "evalue": "invalid syntax (Temp/ipykernel_18568/2494450448.py, line 1)",
     "output_type": "error",
     "traceback": [
      "\u001b[1;36m  File \u001b[1;32m\"C:\\Users\\Admin\\AppData\\Local\\Temp/ipykernel_18568/2494450448.py\"\u001b[1;36m, line \u001b[1;32m1\u001b[0m\n\u001b[1;33m    @var2=4\u001b[0m\n\u001b[1;37m         ^\u001b[0m\n\u001b[1;31mSyntaxError\u001b[0m\u001b[1;31m:\u001b[0m invalid syntax\n"
     ]
    }
   ],
   "source": [
    "@var2=4"
   ]
  },
  {
   "cell_type": "code",
   "execution_count": 28,
   "id": "82cb084e",
   "metadata": {},
   "outputs": [
    {
     "ename": "SyntaxError",
     "evalue": "invalid syntax (Temp/ipykernel_18568/1933165922.py, line 1)",
     "output_type": "error",
     "traceback": [
      "\u001b[1;36m  File \u001b[1;32m\"C:\\Users\\Admin\\AppData\\Local\\Temp/ipykernel_18568/1933165922.py\"\u001b[1;36m, line \u001b[1;32m1\u001b[0m\n\u001b[1;33m    $bat=90\u001b[0m\n\u001b[1;37m    ^\u001b[0m\n\u001b[1;31mSyntaxError\u001b[0m\u001b[1;31m:\u001b[0m invalid syntax\n"
     ]
    }
   ],
   "source": [
    "$bat=90"
   ]
  },
  {
   "cell_type": "markdown",
   "id": "ced7b87c",
   "metadata": {},
   "source": [
    "# 2.Literals"
   ]
  },
  {
   "cell_type": "code",
   "execution_count": 29,
   "id": "04dafe5d",
   "metadata": {},
   "outputs": [],
   "source": [
    "#literals->the value which will be stored by a variable is known literal"
   ]
  },
  {
   "cell_type": "code",
   "execution_count": 30,
   "id": "e0aa37e0",
   "metadata": {},
   "outputs": [],
   "source": [
    "a=10"
   ]
  },
  {
   "cell_type": "code",
   "execution_count": null,
   "id": "8c645d9d",
   "metadata": {},
   "outputs": [],
   "source": [
    "#literal types\n",
    "1.String -->\" \"/' '\n",
    "2.integer\n",
    "3.float\n",
    "4.boolean"
   ]
  },
  {
   "cell_type": "code",
   "execution_count": 31,
   "id": "08a30e6f",
   "metadata": {},
   "outputs": [
    {
     "data": {
      "text/plain": [
       "str"
      ]
     },
     "execution_count": 31,
     "metadata": {},
     "output_type": "execute_result"
    }
   ],
   "source": [
    "a=\"welcome to the session\"\n",
    "type(a)"
   ]
  },
  {
   "cell_type": "code",
   "execution_count": 33,
   "id": "69d8e9c1",
   "metadata": {},
   "outputs": [
    {
     "data": {
      "text/plain": [
       "int"
      ]
     },
     "execution_count": 33,
     "metadata": {},
     "output_type": "execute_result"
    }
   ],
   "source": [
    "b=100\n",
    "type(b)"
   ]
  },
  {
   "cell_type": "code",
   "execution_count": 34,
   "id": "8ad33835",
   "metadata": {},
   "outputs": [
    {
     "data": {
      "text/plain": [
       "float"
      ]
     },
     "execution_count": 34,
     "metadata": {},
     "output_type": "execute_result"
    }
   ],
   "source": [
    "c=1.23\n",
    "type(c)"
   ]
  },
  {
   "cell_type": "code",
   "execution_count": 40,
   "id": "d69ebfeb",
   "metadata": {},
   "outputs": [
    {
     "data": {
      "text/plain": [
       "True"
      ]
     },
     "execution_count": 40,
     "metadata": {},
     "output_type": "execute_result"
    }
   ],
   "source": [
    "d=10\n",
    "d>=10\n"
   ]
  },
  {
   "cell_type": "code",
   "execution_count": 38,
   "id": "92bfbe6e",
   "metadata": {},
   "outputs": [
    {
     "data": {
      "text/plain": [
       "bool"
      ]
     },
     "execution_count": 38,
     "metadata": {},
     "output_type": "execute_result"
    }
   ],
   "source": [
    "e=False\n",
    "type(e)"
   ]
  },
  {
   "cell_type": "code",
   "execution_count": 43,
   "id": "38f12f5d",
   "metadata": {},
   "outputs": [
    {
     "data": {
      "text/plain": [
       "str"
      ]
     },
     "execution_count": 43,
     "metadata": {},
     "output_type": "execute_result"
    }
   ],
   "source": [
    "type(a)"
   ]
  },
  {
   "cell_type": "markdown",
   "id": "4dabcc87",
   "metadata": {},
   "source": [
    "# 3. Static and dynamic way of declaring variables"
   ]
  },
  {
   "cell_type": "code",
   "execution_count": null,
   "id": "e022a7a8",
   "metadata": {},
   "outputs": [],
   "source": [
    "#static declaration -->declaring the values before the exceution(fixed data)\n",
    "#dynamic declaration-->declaring the values in the time of executrion"
   ]
  },
  {
   "cell_type": "code",
   "execution_count": 46,
   "id": "5f09182d",
   "metadata": {},
   "outputs": [
    {
     "name": "stdout",
     "output_type": "stream",
     "text": [
      "sum of a+b+c is 113360000\n"
     ]
    }
   ],
   "source": [
    "#static\n",
    "\n",
    "a=100\n",
    "b=200\n",
    "c=5668\n",
    "print(\"sum of a+b+c is\",a*b*c)"
   ]
  },
  {
   "cell_type": "code",
   "execution_count": null,
   "id": "13a8ab6a",
   "metadata": {},
   "outputs": [],
   "source": [
    "#dynamic\n",
    "#syntax\n",
    "string-->str(input()) /input()\n",
    "integer-->int(input())\n",
    "float-->float(input())\n",
    "bool-->bool(input())"
   ]
  },
  {
   "cell_type": "code",
   "execution_count": 49,
   "id": "2bc7829b",
   "metadata": {},
   "outputs": [
    {
     "name": "stdout",
     "output_type": "stream",
     "text": [
      "enter the var1 hello \n",
      " enter the var2  all\n",
      "hello   all\n"
     ]
    }
   ],
   "source": [
    "var1=str(input(\"enter the var1 \"))\n",
    "var2=str(input(\" enter the var2\"))\n",
    "print(var1  +  var2)"
   ]
  },
  {
   "cell_type": "code",
   "execution_count": 53,
   "id": "794f3548",
   "metadata": {},
   "outputs": [
    {
     "name": "stdout",
     "output_type": "stream",
     "text": [
      "10\n",
      "20\n",
      "30\n"
     ]
    }
   ],
   "source": [
    "x1=int(input())\n",
    "x2=int(input())\n",
    "print(x1+x2)"
   ]
  },
  {
   "cell_type": "code",
   "execution_count": 66,
   "id": "fa46628c",
   "metadata": {},
   "outputs": [
    {
     "name": "stdout",
     "output_type": "stream",
     "text": [
      "100\n"
     ]
    }
   ],
   "source": [
    "s1=input()"
   ]
  },
  {
   "cell_type": "code",
   "execution_count": 67,
   "id": "1a044d76",
   "metadata": {},
   "outputs": [
    {
     "data": {
      "text/plain": [
       "str"
      ]
     },
     "execution_count": 67,
     "metadata": {},
     "output_type": "execute_result"
    }
   ],
   "source": [
    "type(s1)"
   ]
  },
  {
   "cell_type": "code",
   "execution_count": 61,
   "id": "bc6ecb98",
   "metadata": {},
   "outputs": [
    {
     "name": "stdout",
     "output_type": "stream",
     "text": [
      "12.00\n",
      "23.4\n",
      "0.5128205128205129\n"
     ]
    }
   ],
   "source": [
    "w1=float(input())\n",
    "w2=float(input())\n",
    "print(w1/w2)"
   ]
  },
  {
   "cell_type": "code",
   "execution_count": 70,
   "id": "3cf96b03",
   "metadata": {},
   "outputs": [
    {
     "name": "stdout",
     "output_type": "stream",
     "text": [
      "hello\n"
     ]
    }
   ],
   "source": [
    "d1=bool(input())"
   ]
  },
  {
   "cell_type": "code",
   "execution_count": 71,
   "id": "6a878264",
   "metadata": {},
   "outputs": [
    {
     "data": {
      "text/plain": [
       "True"
      ]
     },
     "execution_count": 71,
     "metadata": {},
     "output_type": "execute_result"
    }
   ],
   "source": [
    "d1"
   ]
  },
  {
   "cell_type": "code",
   "execution_count": null,
   "id": "a270dc3c",
   "metadata": {},
   "outputs": [],
   "source": []
  }
 ],
 "metadata": {
  "kernelspec": {
   "display_name": "Python 3 (ipykernel)",
   "language": "python",
   "name": "python3"
  },
  "language_info": {
   "codemirror_mode": {
    "name": "ipython",
    "version": 3
   },
   "file_extension": ".py",
   "mimetype": "text/x-python",
   "name": "python",
   "nbconvert_exporter": "python",
   "pygments_lexer": "ipython3",
   "version": "3.9.7"
  }
 },
 "nbformat": 4,
 "nbformat_minor": 5
}
